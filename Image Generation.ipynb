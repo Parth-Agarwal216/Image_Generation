{
  "cells": [
    {
      "cell_type": "markdown",
      "metadata": {
        "id": "LLzVRKRwo_dO"
      },
      "source": [
        "# **Generative AI**\n",
        " A generative model learns a probability distribution of the data set and then we can then sample from the distribution to create new instances of data."
      ]
    },
    {
      "cell_type": "markdown",
      "metadata": {
        "id": "7vBTQPvoo_dR"
      },
      "source": [
        "# **Imports**"
      ]
    },
    {
      "cell_type": "code",
      "execution_count": 3,
      "metadata": {
        "id": "Z4PyeYx-o_dR"
      },
      "outputs": [
        {
          "name": "stderr",
          "output_type": "stream",
          "text": [
            "C:\\Users\\pande\\AppData\\Roaming\\Python\\Python312\\site-packages\\tqdm\\auto.py:21: TqdmWarning: IProgress not found. Please update jupyter and ipywidgets. See https://ipywidgets.readthedocs.io/en/stable/user_install.html\n",
            "  from .autonotebook import tqdm as notebook_tqdm\n"
          ]
        }
      ],
      "source": [
        "import torch\n",
        "from torch import nn\n",
        "from torch.nn import functional as F\n",
        "\n",
        "import numpy as np\n",
        "import torchvision\n",
        "import math\n",
        "import pandas as pd\n",
        "import matplotlib.pyplot as plt\n",
        "import torchvision.utils as utils\n",
        "\n",
        "from torch.utils.data import Dataset, DataLoader\n",
        "import torchvision.transforms as transforms\n",
        "from torchvision import datasets, transforms\n",
        "\n",
        "from datasets import load_dataset\n",
        "import warnings\n",
        "warnings.filterwarnings('ignore')"
      ]
    },
    {
      "cell_type": "markdown",
      "metadata": {
        "id": "Fh0nL4sdo_dS"
      },
      "source": [
        "# **Setting up CUDA**"
      ]
    },
    {
      "cell_type": "code",
      "execution_count": 4,
      "metadata": {
        "id": "m5QKtT2g8bhT"
      },
      "outputs": [],
      "source": [
        "device = 'cuda' if torch.cuda.is_available() else 'cpu'"
      ]
    },
    {
      "cell_type": "markdown",
      "metadata": {
        "id": "2ddpzMWko_dT"
      },
      "source": [
        "# **Creating the time embeddings**"
      ]
    },
    {
      "cell_type": "code",
      "execution_count": 5,
      "metadata": {
        "id": "MhossPKSo_dT"
      },
      "outputs": [],
      "source": [
        "def get_time_embedding(timestep):\n",
        "    # Shape: (40, 2)\n",
        "    freqs = torch.pow(10000, -torch.arange(start=0, end=40, dtype=torch.float32) / 80)\n",
        "    # Shape: (1, 40)\n",
        "    x = torch.tensor(timestep, dtype=torch.float32)[:, None] * freqs[None]\n",
        "    # Shape: (1, 40 * 2)\n",
        "    return torch.cat([torch.cos(x), torch.sin(x)], dim=-1)"
      ]
    },
    {
      "cell_type": "code",
      "execution_count": 6,
      "metadata": {
        "id": "6NBPUlh8o_dT"
      },
      "outputs": [],
      "source": [
        "class TimeEmbedding(nn.Module):\n",
        "    def __init__(self, n_embd):\n",
        "        super().__init__()\n",
        "        self.linear_1 = nn.Linear(n_embd, 4 * n_embd)\n",
        "        self.linear_2 = nn.Linear(4 * n_embd, 4 * n_embd)\n",
        "\n",
        "    def forward(self, x):\n",
        "        # x: (1, 80)\n",
        "\n",
        "        # (1, 80) -> (1, 320)\n",
        "        x = self.linear_1(x)\n",
        "\n",
        "        # (1, 320) -> (1, 320)\n",
        "        x = F.silu(x)\n",
        "\n",
        "        # (1, 320) -> (1, 320)\n",
        "        x = self.linear_2(x)\n",
        "\n",
        "        return x"
      ]
    },
    {
      "cell_type": "markdown",
      "metadata": {
        "id": "H8U9nkuNo_dT"
      },
      "source": [
        "# **Defining the Residual Connections**"
      ]
    },
    {
      "cell_type": "code",
      "execution_count": 7,
      "metadata": {
        "id": "7ohqMj3Go_dT"
      },
      "outputs": [],
      "source": [
        "class UNET_ResidualBlock(nn.Module):\n",
        "    def __init__(self, in_channels, out_channels, n_time = 320):\n",
        "        super().__init__()\n",
        "        self.groupnorm_feature = nn.GroupNorm(16, in_channels)\n",
        "        self.conv_feature = nn.Conv2d(in_channels, out_channels, kernel_size=3, padding=1)\n",
        "        self.linear_time = nn.Linear(n_time, out_channels)\n",
        "\n",
        "        self.groupnorm_merged = nn.GroupNorm(16, out_channels)\n",
        "        self.conv_merged = nn.Conv2d(out_channels, out_channels, kernel_size=3, padding=1)\n",
        "\n",
        "        if in_channels == out_channels:\n",
        "            self.residual_layer = nn.Identity()\n",
        "        else:\n",
        "            self.residual_layer = nn.Conv2d(in_channels, out_channels, kernel_size=1, padding=0)\n",
        "\n",
        "    def forward(self, feature, time):\n",
        "        # feature: (Batch_Size, In_Channels, Height, Width)\n",
        "        # time: (1, 320)\n",
        "\n",
        "        residue = feature\n",
        "\n",
        "        # (Batch_Size, In_Channels, Height, Width) -> (Batch_Size, In_Channels, Height, Width)\n",
        "        feature = self.groupnorm_feature(feature)\n",
        "\n",
        "        # (Batch_Size, In_Channels, Height, Width) -> (Batch_Size, In_Channels, Height, Width)\n",
        "        feature = F.silu(feature)\n",
        "\n",
        "        # (Batch_Size, In_Channels, Height, Width) -> (Batch_Size, Out_Channels, Height, Width)\n",
        "        feature = self.conv_feature(feature)\n",
        "\n",
        "        # (1, 320) -> (1, 320)\n",
        "        time = F.silu(time)\n",
        "\n",
        "        # (1, 320) -> (1, Out_Channels)\n",
        "        time = self.linear_time(time)\n",
        "\n",
        "        # Add width and height dimension to time.\n",
        "        # (Batch_Size, Out_Channels, Height, Width) + (1, Out_Channels, 1, 1) -> (Batch_Size, Out_Channels, Height, Width)\n",
        "        merged = feature + time.unsqueeze(-1).unsqueeze(-1)\n",
        "\n",
        "        # (Batch_Size, Out_Channels, Height, Width) -> (Batch_Size, Out_Channels, Height, Width)\n",
        "        merged = self.groupnorm_merged(merged)\n",
        "\n",
        "        # (Batch_Size, Out_Channels, Height, Width) -> (Batch_Size, Out_Channels, Height, Width)\n",
        "        merged = F.silu(merged)\n",
        "\n",
        "        # (Batch_Size, Out_Channels, Height, Width) -> (Batch_Size, Out_Channels, Height, Width)\n",
        "        merged = self.conv_merged(merged)\n",
        "\n",
        "        # (Batch_Size, Out_Channels, Height, Width) + (Batch_Size, Out_Channels, Height, Width) -> (Batch_Size, Out_Channels, Height, Width)\n",
        "        return merged + self.residual_layer(residue)"
      ]
    },
    {
      "cell_type": "markdown",
      "metadata": {
        "id": "bsme5b3Xo_dU"
      },
      "source": [
        "# **Creating the attention layers**"
      ]
    },
    {
      "cell_type": "code",
      "execution_count": 8,
      "metadata": {
        "id": "qeASCqGxo_dU"
      },
      "outputs": [],
      "source": [
        "class SelfAttention(nn.Module):\n",
        "    def __init__(self, n_heads, d_embed, in_proj_bias=True, out_proj_bias=True):\n",
        "        super().__init__()\n",
        "        # This combines the Wq, Wk and Wv matrices into one matrix\n",
        "        self.in_proj = nn.Linear(d_embed, 3 * d_embed, bias=in_proj_bias)\n",
        "        # This one represents the Wo matrix\n",
        "        self.out_proj = nn.Linear(d_embed, d_embed, bias=out_proj_bias)\n",
        "        self.n_heads = n_heads\n",
        "        self.d_head = d_embed // n_heads\n",
        "\n",
        "    def forward(self, x):\n",
        "        # x: # (Batch_Size, Seq_Len, Dim)\n",
        "\n",
        "        # (Batch_Size, Seq_Len, Dim)\n",
        "        input_shape = x.shape\n",
        "\n",
        "        # (Batch_Size, Seq_Len, Dim)\n",
        "        batch_size, sequence_length, d_embed = input_shape\n",
        "\n",
        "        # (Batch_Size, Seq_Len, H, Dim / H)\n",
        "        interim_shape = (batch_size, sequence_length, self.n_heads, self.d_head)\n",
        "\n",
        "        # (Batch_Size, Seq_Len, Dim) -> (Batch_Size, Seq_Len, Dim * 3) -> 3 tensor of shape (Batch_Size, Seq_Len, Dim)\n",
        "        q, k, v = self.in_proj(x).chunk(3, dim=-1)\n",
        "\n",
        "        # (Batch_Size, Seq_Len, Dim) -> (Batch_Size, Seq_Len, H, Dim / H) -> (Batch_Size, H, Seq_Len, Dim / H)\n",
        "        q = q.view(interim_shape).transpose(1, 2)\n",
        "        k = k.view(interim_shape).transpose(1, 2)\n",
        "        v = v.view(interim_shape).transpose(1, 2)\n",
        "\n",
        "        # (Batch_Size, H, Seq_Len, Dim) @ (Batch_Size, H, Dim, Seq_Len) -> (Batch_Size, H, Seq_Len, Seq_Len)\n",
        "        weight = q @ k.transpose(-1, -2)\n",
        "\n",
        "        # Divide by d_k (Dim / H).\n",
        "        # (Batch_Size, H, Seq_Len, Seq_Len) -> (Batch_Size, H, Seq_Len, Seq_Len)\n",
        "        weight /= math.sqrt(self.d_head)\n",
        "\n",
        "        # (Batch_Size, H, Seq_Len, Seq_Len) -> (Batch_Size, H, Seq_Len, Seq_Len)\n",
        "        weight = F.softmax(weight, dim=-1)\n",
        "\n",
        "        # (Batch_Size, H, Seq_Len, Seq_Len) @ (Batch_Size, H, Seq_Len, Dim / H) -> (Batch_Size, H, Seq_Len, Dim / H)\n",
        "        output = weight @ v\n",
        "\n",
        "        # (Batch_Size, H, Seq_Len, Dim / H) -> (Batch_Size, Seq_Len, H, Dim / H)\n",
        "        output = output.transpose(1, 2)\n",
        "\n",
        "        # (Batch_Size, Seq_Len, H, Dim / H) -> (Batch_Size, Seq_Len, Dim)\n",
        "        output = output.reshape(input_shape)\n",
        "\n",
        "        # (Batch_Size, Seq_Len, Dim) -> (Batch_Size, Seq_Len, Dim)\n",
        "        output = self.out_proj(output)\n",
        "\n",
        "        # (Batch_Size, Seq_Len, Dim)\n",
        "        return output"
      ]
    },
    {
      "cell_type": "code",
      "execution_count": 9,
      "metadata": {
        "id": "aD9PmviZ8bhX"
      },
      "outputs": [],
      "source": [
        "class UNET_AttentionBlock(nn.Module):\n",
        "    def __init__(self, n_head: int, n_embd: int):\n",
        "        super().__init__()\n",
        "        channels = n_head * n_embd\n",
        "\n",
        "        self.groupnorm = nn.GroupNorm(16, channels, eps=1e-6)\n",
        "        self.conv_input = nn.Conv2d(channels, channels, kernel_size=1, padding=0)\n",
        "\n",
        "        self.layernorm_1 = nn.LayerNorm(channels)\n",
        "        self.attention_1 = SelfAttention(n_head, channels, in_proj_bias=False)\n",
        "        self.layernorm_3 = nn.LayerNorm(channels)\n",
        "        self.linear_geglu_1  = nn.Linear(channels, 4 * channels * 2)\n",
        "        self.linear_geglu_2 = nn.Linear(4 * channels, channels)\n",
        "\n",
        "        self.conv_output = nn.Conv2d(channels, channels, kernel_size=1, padding=0)\n",
        "\n",
        "    def forward(self, x):\n",
        "        # x: (Batch_Size, Features, Height, Width)\n",
        "\n",
        "        residue_long = x\n",
        "\n",
        "        # (Batch_Size, Features, Height, Width) -> (Batch_Size, Features, Height, Width)\n",
        "        x = self.groupnorm(x)\n",
        "\n",
        "        # (Batch_Size, Features, Height, Width) -> (Batch_Size, Features, Height, Width)\n",
        "        x = self.conv_input(x)\n",
        "\n",
        "        n, c, h, w = x.shape\n",
        "\n",
        "        # (Batch_Size, Features, Height, Width) -> (Batch_Size, Features, Height * Width)\n",
        "        x = x.view((n, c, h * w))\n",
        "\n",
        "        # (Batch_Size, Features, Height * Width) -> (Batch_Size, Height * Width, Features)\n",
        "        x = x.transpose(-1, -2)\n",
        "\n",
        "        # Normalization + Self-Attention with skip connection\n",
        "\n",
        "        # (Batch_Size, Height * Width, Features)\n",
        "        residue_short = x\n",
        "\n",
        "        # (Batch_Size, Height * Width, Features) -> (Batch_Size, Height * Width, Features)\n",
        "        x = self.layernorm_1(x)\n",
        "\n",
        "        # (Batch_Size, Height * Width, Features) -> (Batch_Size, Height * Width, Features)\n",
        "        x = self.attention_1(x)\n",
        "\n",
        "        # (Batch_Size, Height * Width, Features) + (Batch_Size, Height * Width, Features) -> (Batch_Size, Height * Width, Features)\n",
        "        x += residue_short\n",
        "\n",
        "        # Normalization + FFN with GeGLU and skip connection\n",
        "        residue_short = x\n",
        "        # (Batch_Size, Height * Width, Features) -> (Batch_Size, Height * Width, Features)\n",
        "        x = self.layernorm_3(x)\n",
        "\n",
        "        # Use of geglu taken from Stable Diffusion github\n",
        "        # (Batch_Size, Height * Width, Features) -> two tensors of shape (Batch_Size, Height * Width, Features * 4)\n",
        "        x, gate = self.linear_geglu_1(x).chunk(2, dim=-1)\n",
        "\n",
        "        # Element-wise product: (Batch_Size, Height * Width, Features * 4) * (Batch_Size, Height * Width, Features * 4) -> (Batch_Size, Height * Width, Features * 4)\n",
        "        x = x * F.gelu(gate)\n",
        "\n",
        "        # (Batch_Size, Height * Width, Features * 4) -> (Batch_Size, Height * Width, Features)\n",
        "        x = self.linear_geglu_2(x)\n",
        "\n",
        "        # (Batch_Size, Height * Width, Features) + (Batch_Size, Height * Width, Features) -> (Batch_Size, Height * Width, Features)\n",
        "        x += residue_short\n",
        "\n",
        "        # (Batch_Size, Height * Width, Features) -> (Batch_Size, Features, Height * Width)\n",
        "        x = x.transpose(-1, -2)\n",
        "\n",
        "        # (Batch_Size, Features, Height * Width) -> (Batch_Size, Features, Height, Width)\n",
        "        x = x.view((n, c, h, w))\n",
        "\n",
        "        # Final skip connection between initial input and output of the block\n",
        "        # (Batch_Size, Features, Height, Width) + (Batch_Size, Features, Height, Width) -> (Batch_Size, Features, Height, Width)\n",
        "        return self.conv_output(x) + residue_long"
      ]
    },
    {
      "cell_type": "code",
      "execution_count": 10,
      "metadata": {
        "id": "LttfFhF48bhY"
      },
      "outputs": [],
      "source": [
        "class Upsample(nn.Module):\n",
        "    def __init__(self, channels):\n",
        "        super().__init__()\n",
        "        self.conv = nn.Conv2d(channels, channels, kernel_size=3, padding=1)\n",
        "\n",
        "    def forward(self, x):\n",
        "        # (Batch_Size, Features, Height, Width) -> (Batch_Size, Features, Height * 2, Width * 2)\n",
        "        x = F.interpolate(x, scale_factor=2, mode='nearest')\n",
        "        return self.conv(x)\n"
      ]
    },
    {
      "cell_type": "code",
      "execution_count": 11,
      "metadata": {
        "id": "6Ll1KxZz8bhY"
      },
      "outputs": [],
      "source": [
        "class SwitchSequential(nn.Sequential):\n",
        "    def forward(self, x, time):\n",
        "        for layer in self:\n",
        "            if isinstance(layer, UNET_AttentionBlock):\n",
        "                x = layer(x)\n",
        "            elif isinstance(layer, UNET_ResidualBlock):\n",
        "                x = layer(x, time)\n",
        "            else:\n",
        "                x = layer(x)\n",
        "        return x"
      ]
    },
    {
      "cell_type": "markdown",
      "metadata": {
        "id": "0XoV_tTPo_dV"
      },
      "source": [
        "# **Forward Process -- Noise Scheduler**"
      ]
    },
    {
      "cell_type": "code",
      "execution_count": 12,
      "metadata": {
        "id": "hSYh-9CTo_dV"
      },
      "outputs": [],
      "source": [
        "class DDPMSampler:\n",
        "\n",
        "    def __init__(self, num_training_steps=1000, beta_start: float = 0.00085, beta_end: float = 0.0120):\n",
        "        # For the naming conventions, refer to the DDPM paper\n",
        "        self.betas = torch.linspace(beta_start , beta_end, num_training_steps, dtype=torch.float32)\n",
        "        self.alphas = 1.0 - self.betas\n",
        "        self.alphas_cumprod = torch.cumprod(self.alphas, dim=0)\n",
        "        self.one = torch.tensor(1.0)\n",
        "        generator = torch.Generator(device=device)\n",
        "        generator.seed()\n",
        "        self.generator = generator\n",
        "        self.num_train_timesteps = num_training_steps\n",
        "        self.timesteps = torch.from_numpy(np.arange(0, num_training_steps)[::-1].copy())\n",
        "\n",
        "    def set_inference_timesteps(self, num_inference_steps=50):\n",
        "        self.num_inference_steps = num_inference_steps\n",
        "        step_ratio = self.num_train_timesteps // self.num_inference_steps\n",
        "        timesteps = (np.arange(0, num_inference_steps) * step_ratio).round()[::-1].copy().astype(np.int64)\n",
        "        self.timesteps = torch.from_numpy(timesteps)\n",
        "\n",
        "    def _get_previous_timestep(self, timestep: int) -> int:\n",
        "        prev_t = timestep - self.num_train_timesteps // self.num_inference_steps\n",
        "        return prev_t\n",
        "\n",
        "    def _get_variance(self, timestep: int) -> torch.Tensor:\n",
        "        prev_t = self._get_previous_timestep(timestep)\n",
        "\n",
        "        alpha_prod_t = self.alphas_cumprod[timestep]\n",
        "        alpha_prod_t_prev = self.alphas_cumprod[prev_t] if prev_t >= 0 else self.one\n",
        "        current_beta_t = 1 - alpha_prod_t / alpha_prod_t_prev\n",
        "        variance = (1 - alpha_prod_t_prev) / (1 - alpha_prod_t) * current_beta_t\n",
        "\n",
        "        # we always take the log of variance, so clamp it to ensure it's not 0\n",
        "        variance = torch.clamp(variance, min=1e-20)\n",
        "\n",
        "        return variance\n",
        "\n",
        "    def step(self, timestep: int, reshaped_image: torch.Tensor, model_output: torch.Tensor):\n",
        "        t = timestep\n",
        "        prev_t = self._get_previous_timestep(t)\n",
        "\n",
        "        # 1. compute alphas, betas\n",
        "        alpha_prod_t = self.alphas_cumprod[t]\n",
        "        alpha_prod_t_prev = self.alphas_cumprod[prev_t] if prev_t >= 0 else self.one\n",
        "        beta_prod_t = 1 - alpha_prod_t\n",
        "        beta_prod_t_prev = 1 - alpha_prod_t_prev\n",
        "        current_alpha_t = alpha_prod_t / alpha_prod_t_prev\n",
        "        current_beta_t = 1 - current_alpha_t\n",
        "\n",
        "        # 2. compute predicted original sample from predicted noise also called\n",
        "        pred_original_sample = (reshaped_image - beta_prod_t ** (0.5) * model_output) / alpha_prod_t ** (0.5)\n",
        "\n",
        "        # 3. Compute coefficients for pred_original_sample x_0 and current sample x_t\n",
        "        pred_original_sample_coeff = (alpha_prod_t_prev ** (0.5) * current_beta_t) / beta_prod_t\n",
        "        current_sample_coeff = current_alpha_t ** (0.5) * beta_prod_t_prev / beta_prod_t\n",
        "\n",
        "        # 4. Compute predicted previous sample µ_t\n",
        "        pred_prev_sample = pred_original_sample_coeff * pred_original_sample + current_sample_coeff * reshaped_image\n",
        "\n",
        "        # 5. Add noise\n",
        "        variance = 0\n",
        "        if t > 0:\n",
        "            device = model_output.device\n",
        "            noise = torch.randn(model_output.shape, device=device, dtype=model_output.dtype)\n",
        "            # Computing the variance\n",
        "            variance = (self._get_variance(t) ** 0.5) * noise\n",
        "\n",
        "        # sample from N(mu, sigma) = X can be obtained by X = mu + sigma * N(0, 1)\n",
        "        # the variable \"variance\" is already multiplied by the noise N(0, 1)\n",
        "        pred_prev_sample = pred_prev_sample + variance\n",
        "\n",
        "        return pred_prev_sample\n",
        "\n",
        "    def add_noise(\n",
        "        self,\n",
        "        original_samples: torch.FloatTensor,\n",
        "        timesteps: torch.IntTensor,\n",
        "    ) -> torch.FloatTensor:\n",
        "        alphas_cumprod = self.alphas_cumprod.to(device=original_samples.device, dtype=original_samples.dtype)\n",
        "        timesteps = timesteps.to(original_samples.device)\n",
        "\n",
        "        sqrt_alpha_prod = alphas_cumprod[timesteps] ** 0.5\n",
        "        sqrt_alpha_prod = sqrt_alpha_prod.flatten()\n",
        "        while len(sqrt_alpha_prod.shape) < len(original_samples.shape):\n",
        "            sqrt_alpha_prod = sqrt_alpha_prod.unsqueeze(-1)\n",
        "\n",
        "        sqrt_one_minus_alpha_prod = (1 - alphas_cumprod[timesteps]) ** 0.5\n",
        "        sqrt_one_minus_alpha_prod = sqrt_one_minus_alpha_prod.flatten()\n",
        "        while len(sqrt_one_minus_alpha_prod.shape) < len(original_samples.shape):\n",
        "            sqrt_one_minus_alpha_prod = sqrt_one_minus_alpha_prod.unsqueeze(-1)\n",
        "\n",
        "        noise = torch.randn(original_samples.shape, generator=self.generator, device=original_samples.device, dtype=original_samples.dtype)\n",
        "        noisy_samples = sqrt_alpha_prod * original_samples + sqrt_one_minus_alpha_prod * noise\n",
        "        return noisy_samples, noise"
      ]
    },
    {
      "cell_type": "markdown",
      "metadata": {
        "id": "g0XlkGe7o_dV"
      },
      "source": [
        "# **Backward Process -- U-Net**"
      ]
    },
    {
      "cell_type": "code",
      "execution_count": 13,
      "metadata": {
        "id": "28fVGCsQ8bhY"
      },
      "outputs": [],
      "source": [
        "class UNET(nn.Module):\n",
        "    def __init__(self):\n",
        "        super().__init__()\n",
        "        self.encoders = nn.ModuleList([\n",
        "\n",
        "            # (Batch_Size,1 , Height , Width) -> (Batch_Size, 64, Height , Width )\n",
        "            SwitchSequential(nn.Conv2d(1, 64, kernel_size=3, stride=1, padding=1)),\n",
        "\n",
        "            # (Batch_Size, 64, Height / 8, Width / 8) -> # (Batch_Size, 64, Height / 8, Width / 8) -> (Batch_Size, 64, Height / 8, Width / 8)\n",
        "            SwitchSequential(UNET_ResidualBlock(64, 64), UNET_AttentionBlock(4, 16)),\n",
        "\n",
        "            # (Batch_Size, 64, Height / 8, Width / 8) -> # (Batch_Size, 64, Height / 8, Width / 8) -> (Batch_Size, 64, Height / 8, Width / 8)\n",
        "            SwitchSequential(UNET_ResidualBlock(64, 64), UNET_AttentionBlock(4, 16)),\n",
        "\n",
        "            # (Batch_Size, 64, Height , Width) -> (Batch_Size, 128, Height / 2, Width / 2)\n",
        "            SwitchSequential(nn.Conv2d(64, 64, kernel_size=3, stride=2, padding=1)),\n",
        "\n",
        "            # (Batch_Size, 64, Height / 16, Width / 16) -> (Batch_Size, 128, Height / 16, Width / 16) -> (Batch_Size, 128, Height / 16, Width / 16)\n",
        "            SwitchSequential(UNET_ResidualBlock(64, 128), UNET_AttentionBlock(4, 32)),\n",
        "\n",
        "            # (Batch_Size, 128, Height / 2, Width / 2) -> (Batch_Size, 128, Height / 2, Width / 2) -> (Batch_Size, 128, Height / 2, Width / 2)\n",
        "            SwitchSequential(UNET_ResidualBlock(128, 128), UNET_AttentionBlock(4, 32)),\n",
        "\n",
        "            # (Batch_Size, 128, Height / 2, Width / 2) -> (Batch_Size, 256, Height / 4, Width / 4)\n",
        "            SwitchSequential(nn.Conv2d(128, 128, kernel_size=3, stride=2, padding=1)),\n",
        "\n",
        "            # (Batch_Size, 128, Height / 64, Width / 64) -> (Batch_Size, 128, Height / 64, Width / 64)\n",
        "            SwitchSequential(UNET_ResidualBlock(128, 128)),\n",
        "\n",
        "            # (Batch_Size, 128, Height / 64, Width / 64) -> (Batch_Size, 128, Height / 64, Width / 64)\n",
        "            SwitchSequential(UNET_ResidualBlock(128, 128)),\n",
        "        ])\n",
        "\n",
        "        self.bottleneck = SwitchSequential(\n",
        "            # (Batch_Size, 256, Height / 4, Width / 4) -> (Batch_Size, 256, Height / 4, Width / 4)\n",
        "            UNET_ResidualBlock(128, 128),\n",
        "\n",
        "            # (Batch_Size, 256, Height / 4, Width / 4) -> (Batch_Size, 256, Height / 4, Width / 4)\n",
        "            UNET_AttentionBlock(4, 32),\n",
        "\n",
        "            # (Batch_Size, 256, Height / 4, Width / 4) -> (Batch_Size, 256, Height / 4, Width / 4)\n",
        "            UNET_ResidualBlock(128, 128),\n",
        "        )\n",
        "\n",
        "        self.decoders = nn.ModuleList([\n",
        "\n",
        "            # (Batch_Size, 256, Height / 64, Width / 64) -> (Batch_Size, 128, Height / 64, Width / 64)\n",
        "            SwitchSequential(UNET_ResidualBlock(256, 128)),\n",
        "\n",
        "            # (Batch_Size, 256, Height / 64, Width / 64) -> (Batch_Size, 128, Height / 64, Width / 64)\n",
        "            SwitchSequential(UNET_ResidualBlock(256, 128)),\n",
        "\n",
        "            # (Batch_Size, 256, Height / 64, Width / 64) -> (Batch_Size, 128, Height / 64, Width / 64) -> (Batch_Size, 128, Height / 32, Width / 32)\n",
        "            SwitchSequential(UNET_ResidualBlock(256, 128), Upsample(128)),\n",
        "\n",
        "            # (Batch_Size, 256, Height / 32, Width / 32) -> (Batch_Size, 128, Height / 32, Width / 32) -> (Batch_Size, 128, Height / 32, Width / 32)\n",
        "            SwitchSequential(UNET_ResidualBlock(256, 128), UNET_AttentionBlock(4, 32)),\n",
        "\n",
        "            # (Batch_Size, 256, Height / 32, Width / 32) -> (Batch_Size, 128, Height / 32, Width / 32) -> (Batch_Size, 128, Height / 32, Width / 32)\n",
        "            SwitchSequential(UNET_ResidualBlock(256, 128), UNET_AttentionBlock(4, 32)),\n",
        "\n",
        "            # (Batch_Size, 192, Height / 32, Width / 32) -> (Batch_Size, 128, Height / 32, Width / 32) -> (Batch_Size, 128, Height / 32, Width / 32) -> (Batch_Size, 128, Height / 16, Width / 16)\n",
        "            SwitchSequential(UNET_ResidualBlock(192, 128), UNET_AttentionBlock(4, 32), Upsample(128)),\n",
        "\n",
        "            # (Batch_Size, 192, Height / 16, Width / 16) -> (Batch_Size, 64, Height / 16, Width / 16) -> (Batch_Size, 64, Height / 16, Width / 16)\n",
        "            SwitchSequential(UNET_ResidualBlock(192, 64), UNET_AttentionBlock(4, 16)),\n",
        "\n",
        "            # (Batch_Size, 128, Height / 16, Width / 16) -> (Batch_Size, 64, Height / 16, Width / 16) -> (Batch_Size, 64, Height / 16, Width / 16)\n",
        "            SwitchSequential(UNET_ResidualBlock(128, 64), UNET_AttentionBlock(4, 16)),\n",
        "\n",
        "            # (Batch_Size, 128, Height / 16, Width / 16) -> (Batch_Size, 64, Height / 16, Width / 16) -> (Batch_Size, 64, Height / 16, Width / 16)\n",
        "            SwitchSequential(UNET_ResidualBlock(128, 64), UNET_AttentionBlock(4, 16)),\n",
        "        ])\n",
        "\n",
        "    def forward(self, x, time):\n",
        "        # x: (Batch_Size, 1, Height , Width)\n",
        "        # time: (1, 640)\n",
        "\n",
        "        skip_connections = []\n",
        "        for layers in self.encoders:\n",
        "            x = layers(x, time)\n",
        "            skip_connections.append(x)\n",
        "        x = self.bottleneck(x, time)\n",
        "\n",
        "        for layers in self.decoders:\n",
        "            x = torch.cat((x, skip_connections.pop()), dim=1)\n",
        "            x = layers(x, time)\n",
        "\n",
        "        return x"
      ]
    },
    {
      "cell_type": "code",
      "execution_count": 14,
      "metadata": {
        "id": "1gdE6roe8bhY"
      },
      "outputs": [],
      "source": [
        "class UNET_OutputLayer(nn.Module):\n",
        "    def __init__(self, in_channels, out_channels):\n",
        "        super().__init__()\n",
        "        self.groupnorm = nn.GroupNorm(16, in_channels)\n",
        "        self.conv = nn.Conv2d(in_channels, out_channels, kernel_size=3, padding=1)\n",
        "\n",
        "    def forward(self, x):\n",
        "        # x: (Batch_Size, 64, Height , Width )\n",
        "\n",
        "        # (Batch_Size, 64, Height, Width ) -> (Batch_Size, 64, Height , Width )\n",
        "        x = self.groupnorm(x)\n",
        "\n",
        "        # (Batch_Size, 64, Height, Width ) -> (Batch_Size, 64, Height , Width )\n",
        "        x = F.silu(x)\n",
        "\n",
        "        # (Batch_Size, 64, Height, Width ) -> (Batch_Size, 1, Height , Width )\n",
        "        x = self.conv(x)\n",
        "\n",
        "        # (Batch_Size, 1, Height , Width)\n",
        "        return x\n"
      ]
    },
    {
      "cell_type": "code",
      "execution_count": 15,
      "metadata": {
        "id": "7mY0P5tE8bhY"
      },
      "outputs": [],
      "source": [
        "class Diffusion(nn.Module):\n",
        "    def __init__(self):\n",
        "        super().__init__()\n",
        "        self.time_embedding = TimeEmbedding(80)\n",
        "        self.unet = UNET()\n",
        "        self.final = UNET_OutputLayer(64, 1)\n",
        "\n",
        "    def forward(self, x, time):\n",
        "        # x: (Batch_Size, 1, Height , Width )\n",
        "        # time: (1, 80)\n",
        "\n",
        "        # (1, 80) -> (1, 320)\n",
        "        time = self.time_embedding(time)\n",
        "\n",
        "        # (Batch, 1, Height , Width ) -> (Batch, 40, Height, Width )\n",
        "        output = self.unet(x, time)\n",
        "\n",
        "        # (Batch, 40, Height , Width ) -> (Batch, 1, Height , Width )\n",
        "        output = self.final(output)\n",
        "\n",
        "        # (Batch, 1, Height , Width)\n",
        "        return output"
      ]
    },
    {
      "cell_type": "markdown",
      "metadata": {
        "id": "L0L-BaJIo_dW"
      },
      "source": [
        "# **Importing Dataset and creating dataloader**"
      ]
    },
    {
      "cell_type": "code",
      "execution_count": null,
      "metadata": {
        "colab": {
          "base_uri": "https://localhost:8080/"
        },
        "id": "lPVsXoc2o_dW",
        "outputId": "1244e330-f63a-41eb-a477-4579c6397e86"
      },
      "outputs": [
        {
          "name": "stdout",
          "output_type": "stream",
          "text": [
            "Downloading http://yann.lecun.com/exdb/mnist/train-images-idx3-ubyte.gz\n",
            "Failed to download (trying next):\n",
            "HTTP Error 403: Forbidden\n",
            "\n",
            "Downloading https://ossci-datasets.s3.amazonaws.com/mnist/train-images-idx3-ubyte.gz\n",
            "Downloading https://ossci-datasets.s3.amazonaws.com/mnist/train-images-idx3-ubyte.gz to ./data/MNIST/raw/train-images-idx3-ubyte.gz\n"
          ]
        },
        {
          "name": "stderr",
          "output_type": "stream",
          "text": [
            "100%|██████████| 9912422/9912422 [00:01<00:00, 5111862.26it/s]\n"
          ]
        },
        {
          "name": "stdout",
          "output_type": "stream",
          "text": [
            "Extracting ./data/MNIST/raw/train-images-idx3-ubyte.gz to ./data/MNIST/raw\n",
            "\n",
            "Downloading http://yann.lecun.com/exdb/mnist/train-labels-idx1-ubyte.gz\n",
            "Failed to download (trying next):\n",
            "HTTP Error 403: Forbidden\n",
            "\n",
            "Downloading https://ossci-datasets.s3.amazonaws.com/mnist/train-labels-idx1-ubyte.gz\n",
            "Downloading https://ossci-datasets.s3.amazonaws.com/mnist/train-labels-idx1-ubyte.gz to ./data/MNIST/raw/train-labels-idx1-ubyte.gz\n"
          ]
        },
        {
          "name": "stderr",
          "output_type": "stream",
          "text": [
            "100%|██████████| 28881/28881 [00:00<00:00, 134963.67it/s]\n"
          ]
        },
        {
          "name": "stdout",
          "output_type": "stream",
          "text": [
            "Extracting ./data/MNIST/raw/train-labels-idx1-ubyte.gz to ./data/MNIST/raw\n",
            "\n",
            "Downloading http://yann.lecun.com/exdb/mnist/t10k-images-idx3-ubyte.gz\n",
            "Failed to download (trying next):\n",
            "HTTP Error 403: Forbidden\n",
            "\n",
            "Downloading https://ossci-datasets.s3.amazonaws.com/mnist/t10k-images-idx3-ubyte.gz\n",
            "Downloading https://ossci-datasets.s3.amazonaws.com/mnist/t10k-images-idx3-ubyte.gz to ./data/MNIST/raw/t10k-images-idx3-ubyte.gz\n"
          ]
        },
        {
          "name": "stderr",
          "output_type": "stream",
          "text": [
            "100%|██████████| 1648877/1648877 [00:01<00:00, 1276640.11it/s]\n"
          ]
        },
        {
          "name": "stdout",
          "output_type": "stream",
          "text": [
            "Extracting ./data/MNIST/raw/t10k-images-idx3-ubyte.gz to ./data/MNIST/raw\n",
            "\n",
            "Downloading http://yann.lecun.com/exdb/mnist/t10k-labels-idx1-ubyte.gz\n",
            "Failed to download (trying next):\n",
            "HTTP Error 403: Forbidden\n",
            "\n",
            "Downloading https://ossci-datasets.s3.amazonaws.com/mnist/t10k-labels-idx1-ubyte.gz\n",
            "Downloading https://ossci-datasets.s3.amazonaws.com/mnist/t10k-labels-idx1-ubyte.gz to ./data/MNIST/raw/t10k-labels-idx1-ubyte.gz\n"
          ]
        },
        {
          "name": "stderr",
          "output_type": "stream",
          "text": [
            "100%|██████████| 4542/4542 [00:00<00:00, 2757349.66it/s]"
          ]
        },
        {
          "name": "stdout",
          "output_type": "stream",
          "text": [
            "Extracting ./data/MNIST/raw/t10k-labels-idx1-ubyte.gz to ./data/MNIST/raw\n",
            "\n"
          ]
        },
        {
          "name": "stderr",
          "output_type": "stream",
          "text": [
            "\n"
          ]
        }
      ],
      "source": [
        "transform = transforms.Compose([transforms.ToTensor(), transforms.Normalize((0.5,), (0.5,))])\n",
        "\n",
        "# Loading the MNIST training and testing datasets\n",
        "train_dataset = datasets.MNIST(root='./data', train=True, transform=transform, download=True)\n",
        "\n",
        "# Creating DataLoaders for training and testing\n",
        "batch_size = 32\n",
        "train_loader = DataLoader(dataset=train_dataset, batch_size=batch_size, shuffle=True, drop_last = True)"
      ]
    },
    {
      "cell_type": "markdown",
      "metadata": {
        "id": "MqGLe58Mo_dW"
      },
      "source": [
        "# **Plotting images of the training data**"
      ]
    },
    {
      "cell_type": "code",
      "execution_count": null,
      "metadata": {
        "colab": {
          "base_uri": "https://localhost:8080/",
          "height": 332
        },
        "id": "wHU9u9sAo_dW",
        "outputId": "eebf0125-5e4c-44e3-b7c5-91b7e65f029e"
      },
      "outputs": [
        {
          "data": {
            "text/plain": [
              "<matplotlib.image.AxesImage at 0x7d442218f820>"
            ]
          },
          "execution_count": 15,
          "metadata": {},
          "output_type": "execute_result"
        },
        {
          "data": {
            "image/png": "[encoded data removed]",
            "text/plain": [
              "<Figure size 640x480 with 1 Axes>"
            ]
          },
          "metadata": {},
          "output_type": "display_data"
        }
      ],
      "source": [
        "x, _ = next(iter(train_loader))\n",
        "plt.imshow(torchvision.utils.make_grid(x)[0], cmap='Greys')"
      ]
    },
    {
      "cell_type": "markdown",
      "metadata": {
        "id": "FREj-mjfo_dX"
      },
      "source": [
        "# **Creating a model instance**"
      ]
    },
    {
      "cell_type": "code",
      "execution_count": 16,
      "metadata": {
        "id": "sir3qsI1o_dX"
      },
      "outputs": [],
      "source": [
        "my_sampler = DDPMSampler()\n",
        "diffusion_model = Diffusion().to(device)\n",
        "optim = torch.optim.AdamW(diffusion_model.parameters())"
      ]
    },
    {
      "cell_type": "markdown",
      "metadata": {
        "id": "WP1nFR03o_dX"
      },
      "source": [
        "# **Training Function**"
      ]
    },
    {
      "cell_type": "code",
      "execution_count": null,
      "metadata": {
        "id": "3EatdpIAo_dX"
      },
      "outputs": [],
      "source": [
        "def train_unet(model,sampler, train_loader, optimizer):\n",
        "    losses = []\n",
        "    model.train()\n",
        "    for i, x in enumerate(train_loader):\n",
        "        if(i % 50 == 0) :\n",
        "            print(i)\n",
        "        x = x[0].to(device)  # GPU\n",
        "        t = torch.randint(0, 1000, (32,)).long()\n",
        "        time_embeddings = get_time_embedding(t).to(device)\n",
        "        noisy_x, noise_added = sampler.add_noise(x, t)\n",
        "        noisy_x = noisy_x.to(device)\n",
        "        noise_added = noise_added.to(device)\n",
        "        noise_pred = model(x = noisy_x, time = time_embeddings)\n",
        "        loss = nn.MSELoss()(noise_added, noise_pred)\n",
        "        optimizer.zero_grad()\n",
        "        loss.backward()\n",
        "        optimizer.step()\n",
        "        losses.append(loss.item())\n",
        "    return np.mean(losses)"
      ]
    },
    {
      "cell_type": "markdown",
      "metadata": {
        "id": "YUII9fJro_dX"
      },
      "source": [
        "# **Training Loop**"
      ]
    },
    {
      "cell_type": "code",
      "execution_count": null,
      "metadata": {
        "colab": {
          "background_save": true,
          "base_uri": "https://localhost:8080/"
        },
        "id": "Nhv3YcQzo_dX",
        "outputId": "09c7430a-1573-401f-a07d-78065412de96"
      },
      "outputs": [
        {
          "name": "stdout",
          "output_type": "stream",
          "text": [
            "=====Epoch 1=====\n",
            "0\n",
            "50\n",
            "100\n",
            "150\n",
            "200\n",
            "250\n",
            "300\n",
            "350\n",
            "400\n",
            "450\n",
            "500\n",
            "550\n",
            "600\n",
            "650\n",
            "700\n",
            "750\n",
            "800\n",
            "850\n",
            "900\n",
            "950\n",
            "1000\n",
            "1050\n",
            "1100\n",
            "1150\n",
            "1200\n",
            "1250\n",
            "1300\n",
            "1350\n",
            "1400\n",
            "1450\n",
            "1500\n",
            "1550\n",
            "1600\n",
            "1650\n",
            "1700\n",
            "1750\n",
            "1800\n",
            "1850\n",
            "Epoch 1 - Train Loss  0.0238\n",
            "=====Epoch 2=====\n",
            "0\n",
            "50\n",
            "100\n",
            "150\n",
            "200\n",
            "250\n",
            "300\n",
            "350\n",
            "400\n",
            "450\n",
            "500\n",
            "550\n",
            "600\n",
            "650\n",
            "700\n",
            "750\n",
            "800\n",
            "850\n",
            "900\n",
            "950\n",
            "1000\n",
            "1050\n",
            "1100\n",
            "1150\n",
            "1200\n",
            "1250\n",
            "1300\n",
            "1350\n",
            "1400\n",
            "1450\n",
            "1500\n",
            "1550\n",
            "1600\n",
            "1650\n",
            "1700\n",
            "1750\n",
            "1800\n",
            "1850\n",
            "Epoch 2 - Train Loss  0.0235\n",
            "=====Epoch 3=====\n",
            "0\n",
            "50\n",
            "100\n",
            "150\n",
            "200\n",
            "250\n",
            "300\n",
            "350\n",
            "400\n",
            "450\n",
            "500\n",
            "550\n",
            "600\n",
            "650\n",
            "700\n",
            "750\n",
            "800\n",
            "850\n",
            "900\n",
            "950\n",
            "1000\n",
            "1050\n",
            "1100\n",
            "1150\n",
            "1200\n",
            "1250\n",
            "1300\n",
            "1350\n",
            "1400\n",
            "1450\n",
            "1500\n",
            "1550\n",
            "1600\n",
            "1650\n",
            "1700\n",
            "1750\n",
            "1800\n",
            "1850\n",
            "Epoch 3 - Train Loss  0.0235\n",
            "=====Epoch 4=====\n",
            "0\n",
            "50\n",
            "100\n",
            "150\n",
            "200\n",
            "250\n",
            "300\n",
            "350\n",
            "400\n",
            "450\n",
            "500\n",
            "550\n",
            "600\n",
            "650\n",
            "700\n",
            "750\n",
            "800\n",
            "850\n",
            "900\n",
            "950\n",
            "1000\n",
            "1050\n",
            "1100\n",
            "1150\n",
            "1200\n",
            "1250\n",
            "1300\n",
            "1350\n",
            "1400\n",
            "1450\n",
            "1500\n",
            "1550\n",
            "1600\n",
            "1650\n",
            "1700\n",
            "1750\n",
            "1800\n",
            "1850\n",
            "Epoch 4 - Train Loss  0.0235\n",
            "=====Epoch 5=====\n",
            "0\n",
            "50\n",
            "100\n",
            "150\n",
            "200\n",
            "250\n",
            "300\n",
            "350\n",
            "400\n",
            "450\n",
            "500\n",
            "550\n",
            "600\n",
            "650\n",
            "700\n",
            "750\n",
            "800\n",
            "850\n",
            "900\n",
            "950\n",
            "1000\n",
            "1050\n",
            "1100\n",
            "1150\n",
            "1200\n",
            "1250\n",
            "1300\n",
            "1350\n",
            "1400\n",
            "1450\n",
            "1500\n",
            "1550\n",
            "1600\n",
            "1650\n",
            "1700\n",
            "1750\n",
            "1800\n",
            "1850\n",
            "Epoch 5 - Train Loss  0.0231\n",
            "=====Epoch 6=====\n",
            "0\n",
            "50\n",
            "100\n",
            "150\n",
            "200\n",
            "250\n",
            "300\n",
            "350\n",
            "400\n",
            "450\n",
            "500\n",
            "550\n",
            "600\n",
            "650\n",
            "700\n",
            "750\n",
            "800\n",
            "850\n",
            "900\n",
            "950\n",
            "1000\n",
            "1050\n",
            "1100\n",
            "1150\n",
            "1200\n",
            "1250\n",
            "1300\n",
            "1350\n",
            "1400\n",
            "1450\n",
            "1500\n",
            "1550\n",
            "1600\n",
            "1650\n",
            "1700\n",
            "1750\n",
            "1800\n",
            "1850\n",
            "Epoch 6 - Train Loss  0.0231\n",
            "=====Epoch 7=====\n",
            "0\n",
            "50\n",
            "100\n",
            "150\n",
            "200\n",
            "250\n",
            "300\n",
            "350\n",
            "400\n",
            "450\n",
            "500\n",
            "550\n",
            "600\n",
            "650\n",
            "700\n",
            "750\n",
            "800\n",
            "850\n",
            "900\n",
            "950\n",
            "1000\n",
            "1050\n",
            "1100\n",
            "1150\n",
            "1200\n",
            "1250\n",
            "1300\n",
            "1350\n",
            "1400\n",
            "1450\n",
            "1500\n",
            "1550\n",
            "1600\n",
            "1650\n",
            "1700\n",
            "1750\n",
            "1800\n",
            "1850\n",
            "Epoch 7 - Train Loss  0.0233\n",
            "=====Epoch 8=====\n",
            "0\n",
            "50\n",
            "100\n",
            "150\n",
            "200\n",
            "250\n",
            "300\n",
            "350\n",
            "400\n",
            "450\n",
            "500\n",
            "550\n",
            "600\n",
            "650\n",
            "700\n",
            "750\n",
            "800\n",
            "850\n",
            "900\n",
            "950\n",
            "1000\n",
            "1050\n",
            "1100\n",
            "1150\n",
            "1200\n",
            "1250\n",
            "1300\n",
            "1350\n",
            "1400\n",
            "1450\n",
            "1500\n",
            "1550\n",
            "1600\n",
            "1650\n",
            "1700\n",
            "1750\n",
            "1800\n",
            "1850\n",
            "Epoch 8 - Train Loss  0.0230\n",
            "=====Epoch 9=====\n",
            "0\n",
            "50\n",
            "100\n",
            "150\n",
            "200\n",
            "250\n",
            "300\n",
            "350\n",
            "400\n",
            "450\n",
            "500\n",
            "550\n",
            "600\n",
            "650\n",
            "700\n",
            "750\n",
            "800\n",
            "850\n",
            "900\n",
            "950\n",
            "1000\n",
            "1050\n",
            "1100\n",
            "1150\n",
            "1200\n",
            "1250\n",
            "1300\n",
            "1350\n",
            "1400\n",
            "1450\n",
            "1500\n",
            "1550\n",
            "1600\n",
            "1650\n",
            "1700\n",
            "1750\n",
            "1800\n",
            "1850\n",
            "Epoch 9 - Train Loss  0.0229\n",
            "=====Epoch 10=====\n",
            "0\n",
            "50\n",
            "100\n",
            "150\n",
            "200\n",
            "250\n",
            "300\n",
            "350\n",
            "400\n",
            "450\n",
            "500\n",
            "550\n",
            "600\n",
            "650\n",
            "700\n",
            "750\n",
            "800\n",
            "850\n",
            "900\n",
            "950\n",
            "1000\n",
            "1050\n",
            "1100\n",
            "1150\n",
            "1200\n",
            "1250\n",
            "1300\n",
            "1350\n",
            "1400\n",
            "1450\n",
            "1500\n",
            "1550\n",
            "1600\n",
            "1650\n",
            "1700\n",
            "1750\n",
            "1800\n",
            "1850\n",
            "Epoch 10 - Train Loss  0.0231\n"
          ]
        }
      ],
      "source": [
        "epochs = 10\n",
        "train_losses = []\n",
        "\n",
        "best_dict = None\n",
        "\n",
        "optim = torch.optim.AdamW(diffusion_model.parameters())\n",
        "for epoch in range(epochs):\n",
        "\n",
        "    print('='*5 + f\"Epoch {epoch + 1}\" + '='*5)\n",
        "    train_loss = train_unet(model= diffusion_model,sampler = my_sampler, train_loader= train_loader, optimizer= optim)\n",
        "    best_dict = diffusion_model.state_dict()\n",
        "    torch.save(best_dict, \"diffusion.tar\")\n",
        "\n",
        "    train_losses.append(train_loss)\n",
        "    print(f\"Epoch {epoch + 1} - Train Loss {train_loss: .4f}\")"
      ]
    },
    {
      "cell_type": "markdown",
      "metadata": {
        "id": "8yXJ5D09o_dX"
      },
      "source": [
        "# **Loading the Model**"
      ]
    },
    {
      "cell_type": "code",
      "execution_count": null,
      "metadata": {
        "colab": {
          "base_uri": "https://localhost:8080/"
        },
        "id": "-7YV4oc7o_dX",
        "outputId": "d4fce2cf-6a89-4aad-b926-e3ce6f8d1547"
      },
      "outputs": [
        {
          "data": {
            "text/plain": [
              "<All keys matched successfully>"
            ]
          },
          "execution_count": 20,
          "metadata": {},
          "output_type": "execute_result"
        }
      ],
      "source": [
        "checkpoint = torch.load(\"diffusion.tar\")\n",
        "diffusion_model.load_state_dict(checkpoint)"
      ]
    },
    {
      "cell_type": "markdown",
      "metadata": {
        "id": "pMdOU7RQo_dY"
      },
      "source": [
        "# **Function to Generate Images**"
      ]
    },
    {
      "cell_type": "code",
      "execution_count": 20,
      "metadata": {
        "id": "w8Vm1WpPo_dY"
      },
      "outputs": [],
      "source": [
        "def generate(\n",
        "    diffusion_model,\n",
        "    n_inference_steps=50,\n",
        "):\n",
        "    with torch.no_grad():\n",
        "\n",
        "        sampler = DDPMSampler()\n",
        "        sampler.set_inference_timesteps(n_inference_steps)\n",
        "\n",
        "        image_shape = (1, 1, 28, 28)\n",
        "        image = torch.randn(image_shape, device=device)\n",
        "\n",
        "        diffusion_model.to(device)\n",
        "\n",
        "        timesteps = sampler.timesteps\n",
        "        for i, timestep in enumerate(timesteps):\n",
        "            # (1, 80)\n",
        "            time_embedding = get_time_embedding(torch.tensor(timestep).view(1,)).to(device)\n",
        "\n",
        "            # (Batch_Size, 1, Height, Width)\n",
        "            model_input = image\n",
        "\n",
        "            # model_output is the predicted noise\n",
        "            # (Batch_Size, 1, Height, Width) -> (Batch_Size, 1, Height, Width)\n",
        "            model_output = diffusion_model(model_input, time_embedding)\n",
        "\n",
        "            # (Batch_Size, 1, Height, Width) -> (Batch_Size, 1, Height, Width)\n",
        "            image = sampler.step(timestep, image, model_output)\n",
        "\n",
        "        # (Batch_Size, Channel, Height, Width) -> (Batch_Size, Height, Width, Channel)\n",
        "        image = image.permute(0, 2, 3, 1)\n",
        "        image = image.detach().cpu().clip(0, 1)\n",
        "        return image[0]"
      ]
    },
    {
      "cell_type": "markdown",
      "metadata": {
        "id": "9JyalatHo_dY"
      },
      "source": [
        "# **Image Generation**"
      ]
    },
    {
      "cell_type": "code",
      "execution_count": 31,
      "metadata": {
        "colab": {
          "base_uri": "https://localhost:8080/",
          "height": 447
        },
        "id": "28hpNX8co_dY",
        "outputId": "dfb8aa31-f567-4d9b-c4c2-6c2d55348d8c"
      },
      "outputs": [
        {
          "data": {
            "text/plain": [
              "<matplotlib.image.AxesImage at 0x281cb23fe60>"
            ]
          },
          "execution_count": 31,
          "metadata": {},
          "output_type": "execute_result"
        },
        {
          "data": {
            "image/png": "[encoded data removed]",
            "text/plain": [
              "<Figure size 640x480 with 1 Axes>"
            ]
          },
          "metadata": {},
          "output_type": "display_data"
        }
      ],
      "source": [
        "image = generate(diffusion_model)\n",
        "plt.imshow(image, cmap = 'Greys')"
      ]
    },
    {
      "cell_type": "markdown",
      "metadata": {},
      "source": [
        "# **Visualize the DDPM noising process for different timesteps**"
      ]
    },
    {
      "cell_type": "code",
      "execution_count": null,
      "metadata": {
        "colab": {
          "base_uri": "https://localhost:8080/",
          "height": 703
        },
        "id": "wS9V7wPXo_dY",
        "outputId": "e55a95ed-c754-4735-afa5-764d63158f88"
      },
      "outputs": [
        {
          "name": "stdout",
          "output_type": "stream",
          "text": [
            "X shape torch.Size([8, 1, 28, 28])\n"
          ]
        },
        {
          "data": {
            "image/png": "[encoded data removed]",
            "text/plain": [
              "<Figure size 1600x1000 with 3 Axes>"
            ]
          },
          "metadata": {},
          "output_type": "display_data"
        }
      ],
      "source": [
        "# Noise a batch of images to view the effect\n",
        "fig, axs = plt.subplots(3, 1, figsize=(16, 10))\n",
        "xb, yb = next(iter(train_loader))\n",
        "xb = xb.to(device)[:8]\n",
        "xb = xb * 2. - 1. # Map to (-1, 1)\n",
        "print('X shape', xb.shape)\n",
        "\n",
        "# Show clean inputs\n",
        "axs[0].imshow(torchvision.utils.make_grid(xb[:8])[0].detach().cpu(), cmap='Greys')\n",
        "axs[0].set_title('Clean X')\n",
        "\n",
        "# Add noise with scheduler\n",
        "timesteps = torch.linspace(0, 999, 8).long().to(device)\n",
        "noise = torch.randn_like(xb) # << NB: randn not rand\n",
        "noisy_xb, noise = my_sampler.add_noise(xb, timesteps)\n",
        "# print('Noisy X shape', noisy_xb.shape)\n",
        "\n",
        "# Show noisy version (with and without clipping)\n",
        "axs[1].imshow(torchvision.utils.make_grid(noisy_xb[:8])[0].detach().cpu().clip(-1, 1),  cmap='Greys')\n",
        "axs[1].set_title('Noisy X (clipped to (-1, 1)')\n",
        "axs[2].imshow(torchvision.utils.make_grid(noisy_xb[:8])[0].detach().cpu(),  cmap='Greys')\n",
        "axs[2].set_title('Noisy X');"
      ]
    }
  ],
  "metadata": {
    "accelerator": "GPU",
    "colab": {
      "gpuType": "T4",
      "provenance": []
    },
    "kaggle": {
      "accelerator": "nvidiaTeslaT4",
      "dataSources": [],
      "dockerImageVersionId": 30733,
      "isGpuEnabled": true,
      "isInternetEnabled": true,
      "language": "python",
      "sourceType": "notebook"
    },
    "kernelspec": {
      "display_name": "Python 3",
      "name": "python3"
    },
    "language_info": {
      "codemirror_mode": {
        "name": "ipython",
        "version": 3
      },
      "file_extension": ".py",
      "mimetype": "text/x-python",
      "name": "python",
      "nbconvert_exporter": "python",
      "pygments_lexer": "ipython3",
      "version": "3.12.4"
    }
  },
  "nbformat": 4,
  "nbformat_minor": 0
}
